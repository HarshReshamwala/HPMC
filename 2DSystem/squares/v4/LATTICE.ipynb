{
 "cells": [
  {
   "cell_type": "code",
   "execution_count": 2,
   "metadata": {},
   "outputs": [],
   "source": [
    "import itertools\n",
    "import math\n",
    "import os\n",
    "import gsd.hoomd\n",
    "import hoomd\n",
    "import numpy\n",
    "import warnings\n",
    "import fresnel\n",
    "import IPython\n",
    "import packaging.version \n",
    "import matplotlib\n",
    "import random\n",
    "import io \n",
    "import PIL \n",
    "import freud\n",
    "import matplotlib.pyplot as plt\n",
    "\n",
    "%matplotlib inline \n",
    "matplotlib.style.use('ggplot')\n",
    "import matplotlib_inline\n",
    "\n",
    "matplotlib_inline.backend_inline.set_matplotlib_formats('svg')"
   ]
  },
  {
   "cell_type": "code",
   "execution_count": 3,
   "metadata": {},
   "outputs": [],
   "source": [
    "device = fresnel.Device()\n",
    "tracer = fresnel.tracer.Path(device=device, w=300, h=300)\n",
    "\n",
    "def render(snapshot):\n",
    "\n",
    "    vertices = [\n",
    "        (-1, -1),\n",
    "        (1, -1),\n",
    "        (1, 1),\n",
    "        (-1, 1)\n",
    "    ]\n",
    "\n",
    "    L = snapshot.configuration.box[0]\n",
    "    scene = fresnel.Scene(device)\n",
    "\n",
    "    geometry = fresnel.geometry.Polygon(\n",
    "        scene, vertices = vertices, N=len(snapshot.particles.position)\n",
    "    )\n",
    "    geometry.material = fresnel.material.Material(\n",
    "        color=fresnel.color.linear([100 / 255, 216 / 255, 230 / 255]), roughness=0.2\n",
    "    )\n",
    "    positions = numpy.array(snapshot.particles.position)[:, :2]\n",
    "    geometry.position[:] = positions\n",
    "\n",
    "    orientations = numpy.array(snapshot.particles.orientation)\n",
    "    angles = 2 * numpy.arctan2(orientations[:, 3], orientations[:, 0])\n",
    "    geometry.angle[:] = angles\n",
    "    \n",
    "    geometry.outline_width = 0.01\n",
    "\n",
    "    fresnel.geometry.Box(scene, [L, L, 0.1, 0, 0, 0], box_radius=0.02)\n",
    "\n",
    "    scene.lights = [\n",
    "        fresnel.light.Light(direction=(0, 0, 1), color=(0.8, 0.8, 0.8), theta=math.pi),\n",
    "        fresnel.light.Light(\n",
    "            direction=(1, 1, 1), color=(1.1, 1.1, 1.1), theta=math.pi / 3\n",
    "        ),\n",
    "    ]\n",
    "    scene.camera = fresnel.camera.Orthographic(\n",
    "        position=(0, 0, 10), look_at=(0, 0, 0), up=(0, 1, 0), height=L * 1.1\n",
    "    )\n",
    "    scene.background_alpha = 1\n",
    "    scene.background_color = (1, 1, 1)\n",
    "    return IPython.display.Image(tracer.sample(scene, samples=500)._repr_png_())"
   ]
  },
  {
   "cell_type": "code",
   "execution_count": 6,
   "metadata": {},
   "outputs": [],
   "source": [
    "m = 5\n",
    "N_particles = m**2\n",
    "spacing = 2\n",
    "K = math.ceil(N_particles ** (1 / 2))\n",
    "L = K * spacing\n",
    "x = numpy.linspace(-L / 2, L / 2, K, endpoint=False)\n",
    "position = [(px, py, 0) for px, py in itertools.product(x, x)][:N_particles]\n",
    "orientation = [(1, 0, 0, 0)] * N_particles\n",
    "\n",
    "frame = gsd.hoomd.Frame()\n",
    "frame.particles.N = N_particles\n",
    "frame.particles.position = position[0:N_particles]\n",
    "frame.particles.orientation = orientation[0:N_particles]\n",
    "frame.particles.typeid = [0] * N_particles\n",
    "frame.configuration.box = [L, L, 0, 0, 0, 0]\n",
    "frame.particles.types = ['Squares']\n"
   ]
  },
  {
   "cell_type": "code",
   "execution_count": 8,
   "metadata": {},
   "outputs": [],
   "source": [
    "fn = os.path.join(os.getcwd(), 'lattice_sq_v4.gsd')\n",
    "![ -e \"$fn\" ] && rm \"$fn\"\n",
    "\n",
    "with gsd.hoomd.open(name='lattice_sq_v4.gsd', mode='x') as f:\n",
    "    f.append(frame)"
   ]
  },
  {
   "cell_type": "code",
   "execution_count": null,
   "metadata": {},
   "outputs": [],
   "source": [
    "########COMPRESS########"
   ]
  },
  {
   "cell_type": "code",
   "execution_count": 4,
   "metadata": {},
   "outputs": [],
   "source": [
    "m = 5\n",
    "N_particles = m ** 2\n",
    "spacing = 20  \n",
    "target_vf = 0.01 \n",
    "\n",
    "particle_radius = 1 \n",
    "particle_volume = (2 * particle_radius) ** 2  \n",
    "box_volume = N_particles * particle_volume / target_vf\n",
    "box_size = numpy.sqrt(box_volume) \n",
    "\n",
    "positions = numpy.random.uniform(-box_size / 2, box_size / 2, size=(N_particles, 2))\n",
    "positions = [(px, py, 0) for px, py in positions]  \n",
    "\n",
    "orientations = [(numpy.cos(random.uniform(0, 2 * numpy.pi)), \n",
    "                 numpy.sin(random.uniform(0, 2 * numpy.pi)), \n",
    "                 0, 0) for _ in range(N_particles)] \n",
    "\n",
    "frame = gsd.hoomd.Frame()\n",
    "frame.particles.N = N_particles\n",
    "frame.particles.position = positions\n",
    "frame.particles.orientation = orientations\n",
    "frame.particles.typeid = [0] * N_particles\n",
    "frame.configuration.box = [box_size, box_size, 0, 0, 0, 0]\n",
    "frame.particles.types = ['Squares']"
   ]
  },
  {
   "cell_type": "code",
   "execution_count": 5,
   "metadata": {},
   "outputs": [
    {
     "data": {
      "image/png": "[encoded data removed]",
      "text/plain": [
       "<IPython.core.display.Image object>"
      ]
     },
     "execution_count": 5,
     "metadata": {},
     "output_type": "execute_result"
    }
   ],
   "source": [
    "render(frame)"
   ]
  },
  {
   "cell_type": "code",
   "execution_count": 6,
   "metadata": {},
   "outputs": [],
   "source": [
    "fn = os.path.join(os.getcwd(), 'lattice_sq_v4_cmp.gsd')\n",
    "![ -e \"$fn\" ] && rm \"$fn\"\n",
    "\n",
    "with gsd.hoomd.open(name='lattice_sq_v4_cmp.gsd', mode='x') as f:\n",
    "    f.append(frame)"
   ]
  },
  {
   "cell_type": "code",
   "execution_count": null,
   "metadata": {},
   "outputs": [],
   "source": []
  }
 ],
 "metadata": {
  "kernelspec": {
   "display_name": "hoomd_env1",
   "language": "python",
   "name": "python3"
  },
  "language_info": {
   "codemirror_mode": {
    "name": "ipython",
    "version": 3
   },
   "file_extension": ".py",
   "mimetype": "text/x-python",
   "name": "python",
   "nbconvert_exporter": "python",
   "pygments_lexer": "ipython3",
   "version": "3.9.19"
  }
 },
 "nbformat": 4,
 "nbformat_minor": 2
}
