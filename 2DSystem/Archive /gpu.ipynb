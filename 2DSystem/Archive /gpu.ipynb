{
 "cells": [
  {
   "cell_type": "code",
   "execution_count": 1,
   "metadata": {},
   "outputs": [
    {
     "ename": "RuntimeError",
     "evalue": "This build of HOOMD does not include GPU support.",
     "output_type": "error",
     "traceback": [
      "\u001b[0;31m---------------------------------------------------------------------------\u001b[0m",
      "\u001b[0;31mRuntimeError\u001b[0m                              Traceback (most recent call last)",
      "Cell \u001b[0;32mIn[1], line 2\u001b[0m\n\u001b[1;32m      1\u001b[0m \u001b[38;5;28;01mimport\u001b[39;00m \u001b[38;5;21;01mhoomd\u001b[39;00m \n\u001b[0;32m----> 2\u001b[0m gpu \u001b[38;5;241m=\u001b[39m \u001b[43mhoomd\u001b[49m\u001b[38;5;241;43m.\u001b[39;49m\u001b[43mdevice\u001b[49m\u001b[38;5;241;43m.\u001b[39;49m\u001b[43mGPU\u001b[49m\u001b[43m(\u001b[49m\u001b[43m)\u001b[49m\n",
      "File \u001b[0;32m/opt/anaconda3/envs/hoomd_env1/lib/python3.9/site-packages/hoomd/device.py:394\u001b[0m, in \u001b[0;36mGPU.__init__\u001b[0;34m(self, gpu_ids, num_cpu_threads, communicator, message_filename, notice_level, gpu_id)\u001b[0m\n\u001b[1;32m    391\u001b[0m     gpu_ids \u001b[38;5;241m=\u001b[39m [gpu_id]\n\u001b[1;32m    393\u001b[0m \u001b[38;5;66;03m# convert None options to defaults\u001b[39;00m\n\u001b[0;32m--> 394\u001b[0m \u001b[38;5;28mself\u001b[39m\u001b[38;5;241m.\u001b[39m_cpp_exec_conf \u001b[38;5;241m=\u001b[39m \u001b[43m_hoomd\u001b[49m\u001b[38;5;241;43m.\u001b[39;49m\u001b[43mExecutionConfiguration\u001b[49m\u001b[43m(\u001b[49m\n\u001b[1;32m    395\u001b[0m \u001b[43m    \u001b[49m\u001b[43m_hoomd\u001b[49m\u001b[38;5;241;43m.\u001b[39;49m\u001b[43mExecutionConfiguration\u001b[49m\u001b[38;5;241;43m.\u001b[39;49m\u001b[43mexecutionMode\u001b[49m\u001b[38;5;241;43m.\u001b[39;49m\u001b[43mGPU\u001b[49m\u001b[43m,\u001b[49m\u001b[43m \u001b[49m\u001b[43mgpu_ids\u001b[49m\u001b[43m,\u001b[49m\n\u001b[1;32m    396\u001b[0m \u001b[43m    \u001b[49m\u001b[38;5;28;43mself\u001b[39;49m\u001b[38;5;241;43m.\u001b[39;49m\u001b[43mcommunicator\u001b[49m\u001b[38;5;241;43m.\u001b[39;49m\u001b[43mcpp_mpi_conf\u001b[49m\u001b[43m,\u001b[49m\u001b[43m \u001b[49m\u001b[38;5;28;43mself\u001b[39;49m\u001b[38;5;241;43m.\u001b[39;49m\u001b[43m_cpp_msg\u001b[49m\u001b[43m)\u001b[49m\n\u001b[1;32m    398\u001b[0m \u001b[38;5;28;01mif\u001b[39;00m num_cpu_threads \u001b[38;5;129;01mis\u001b[39;00m \u001b[38;5;129;01mnot\u001b[39;00m \u001b[38;5;28;01mNone\u001b[39;00m:\n\u001b[1;32m    399\u001b[0m     \u001b[38;5;28mself\u001b[39m\u001b[38;5;241m.\u001b[39mnum_cpu_threads \u001b[38;5;241m=\u001b[39m num_cpu_threads\n",
      "\u001b[0;31mRuntimeError\u001b[0m: This build of HOOMD does not include GPU support."
     ]
    }
   ],
   "source": [
    "import hoomd \n",
    "gpu = hoomd.device.GPU()"
   ]
  },
  {
   "cell_type": "code",
   "execution_count": null,
   "metadata": {},
   "outputs": [],
   "source": []
  }
 ],
 "metadata": {
  "kernelspec": {
   "display_name": "hoomd_env1",
   "language": "python",
   "name": "python3"
  },
  "language_info": {
   "codemirror_mode": {
    "name": "ipython",
    "version": 3
   },
   "file_extension": ".py",
   "mimetype": "text/x-python",
   "name": "python",
   "nbconvert_exporter": "python",
   "pygments_lexer": "ipython3",
   "version": "3.9.19"
  }
 },
 "nbformat": 4,
 "nbformat_minor": 2
}
