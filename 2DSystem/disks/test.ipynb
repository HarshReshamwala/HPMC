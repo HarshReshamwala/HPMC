{
 "cells": [
  {
   "cell_type": "code",
   "execution_count": null,
   "metadata": {},
   "outputs": [],
   "source": [
    "import itertools\n",
    "\n",
    "import hoomd\n",
    "import numpy as np\n",
    "from hoomd import md\n",
    "\n",
    "\n",
    "def make_simple_cubic_snapshot(a, n):\n",
    "    \"\"\"Make a snapshot with a simple cubic lattice.\n",
    "\n",
    "    Args:\n",
    "        a (float): Lattice spacing\n",
    "        n (int): Number of particles\n",
    "\n",
    "    Returns:\n",
    "        hoomd.Snapshot: The initial system snapshot.\n",
    "    \"\"\"\n",
    "    k = int(np.ceil(n ** (1 / 3)))\n",
    "    L = k * a\n",
    "    x = np.linspace(-L / 2, L / 2, k, endpoint=False)\n",
    "    position = list(itertools.product(x, repeat=3))\n",
    "    position = position[:n]\n",
    "\n",
    "    snap = hoomd.Snapshot()\n",
    "    snap.particles.N = n\n",
    "    snap.particles.types = [\"A\"]\n",
    "    snap.particles.typeid[:] = [0] * n\n",
    "    snap.particles.position[:] = position\n",
    "    snap.configuration.box = [L, L, L, 0, 0, 0]\n",
    "\n",
    "    return snap\n",
    "\n",
    "\n",
    "# Create an 8x8x8 simple cubic lattice\n",
    "sim = hoomd.Simulation(hoomd.device.CPU())\n",
    "sim.create_state_from_snapshot(make_simple_cubic_snapshot(a=1.5, n=100000))\n",
    "sim.seed = 42\n",
    "\n",
    "\n",
    "# Run for 10,000 time steps\n",
    "sim.run(1)\n",
    "snap = sim.state.get_snapshot()"
   ]
  },
  {
   "cell_type": "code",
   "execution_count": null,
   "metadata": {},
   "outputs": [],
   "source": [
    "import freud\n",
    "import matplotlib.cm\n",
    "import numpy as np\n",
    "import plato\n",
    "\n",
    "# For interactive scenes, use:\n",
    "import plato.draw.pythreejs as draw\n",
    "from matplotlib.colors import Normalize\n",
    "\n",
    "# For static scenes, use:\n",
    "# import plato.draw.fresnel as draw"
   ]
  },
  {
   "cell_type": "code",
   "execution_count": null,
   "metadata": {},
   "outputs": [],
   "source": [
    "positions = snap.particles.position\n",
    "box = freud.Box.from_box(snap.configuration.box)\n",
    "ld = freud.density.LocalDensity(3.0, 1.0)\n",
    "ld.compute(system=snap)\n",
    "colors = matplotlib.cm.viridis(Normalize()(ld.density))\n",
    "radii = np.ones(len(positions)) * 0.5\n",
    "box_prim = draw.Box.from_box(box, width=0.2)\n",
    "sphere_prim = draw.Spheres(\n",
    "    positions=snap.particles.position, radii=radii, vertex_count=32\n",
    ")\n",
    "scene = draw.Scene((sphere_prim, box_prim), zoom=1.5)"
   ]
  },
  {
   "cell_type": "code",
   "execution_count": null,
   "metadata": {},
   "outputs": [],
   "source": [
    "scene.show()"
   ]
  },
  {
   "cell_type": "code",
   "execution_count": null,
   "metadata": {},
   "outputs": [],
   "source": []
  }
 ],
 "metadata": {
  "kernelspec": {
   "display_name": "hoomd_env1",
   "language": "python",
   "name": "python3"
  },
  "language_info": {
   "codemirror_mode": {
    "name": "ipython",
    "version": 3
   },
   "file_extension": ".py",
   "mimetype": "text/x-python",
   "name": "python",
   "nbconvert_exporter": "python",
   "pygments_lexer": "ipython3",
   "version": "3.9.19"
  }
 },
 "nbformat": 4,
 "nbformat_minor": 2
}
