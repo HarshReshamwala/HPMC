{
 "cells": [
  {
   "cell_type": "code",
   "execution_count": 21,
   "metadata": {},
   "outputs": [],
   "source": [
    "import itertools\n",
    "import math\n",
    "import os\n",
    "import gsd.hoomd\n",
    "import hoomd\n",
    "import numpy \n",
    "import warnings\n",
    "import fresnel\n",
    "import IPython\n",
    "import packaging.version \n",
    "import matplotlib\n",
    "import io \n",
    "import PIL\n",
    "import freud\n",
    "import random\n",
    "import matplotlib.pyplot as plt \n",
    "\n",
    "%matplotlib inline \n",
    "matplotlib.style.use('ggplot')\n",
    "import matplotlib_inline\n",
    "\n",
    "matplotlib_inline.backend_inline.set_matplotlib_formats('svg')"
   ]
  },
  {
   "cell_type": "code",
   "execution_count": null,
   "metadata": {},
   "outputs": [
    {
     "name": "stdout",
     "output_type": "stream",
     "text": [
      "GSD file 'two_shapes.gsd' created with two shapes (A and B).\n"
     ]
    }
   ],
   "source": [
    "import gsd.hoomd\n",
    "import numpy as np\n",
    "import os\n",
    "\n",
    "position_A = [[0.25,0,0],\n",
    "              [0.25,0.25,0],\n",
    "              [0.25,0.5,0.25],\n",
    "              [0,0.25,0.25],\n",
    "              [0.25,0.25,0.5],\n",
    "              [0,0,0.25]]\n",
    "position_B = [[0.25,0,0],\n",
    "              [0.25,0.25,0],\n",
    "              [0.25,0.5,0.25],\n",
    "              [0,0.25,0.25],\n",
    "              [0.25,0.25,0.5],\n",
    "              [0,0,0.25]]\n",
    "\n",
    "positions = np.array(position_A + position_B, dtype=np.float32)\n",
    "\n",
    "typeids = [0] * len(position_A) + [1] * len(position_B)\n",
    "\n",
    "orientation = [(1, 0, 0, 0)] * len(positions)\n",
    "\n",
    "frame = gsd.hoomd.Frame()\n",
    "\n",
    "frame.particles.N = len(positions)  \n",
    "frame.particles.position = positions\n",
    "frame.particles.orientation = np.array(orientation, dtype=np.float32)\n",
    "frame.particles.typeid = typeids  \n",
    "frame.configuration.box = [10, 10, 10, 0, 0, 0]  \n",
    "frame.particles.types = ['A', 'B']  \n",
    "\n",
    "file_path = os.path.join(os.getcwd(), 'squareA&B.gsd')\n",
    "if os.path.exists(file_path):\n",
    "    os.remove(file_path)  \n",
    "\n",
    "with gsd.hoomd.open(name=file_path, mode='x') as f:\n",
    "    f.append(frame)\n",
    "\n",
    "print(\"GSD file created with two shapes (A and B).\")"
   ]
  },
  {
   "cell_type": "code",
   "execution_count": 23,
   "metadata": {},
   "outputs": [],
   "source": [
    "cpu = hoomd.device.CPU()"
   ]
  },
  {
   "cell_type": "code",
   "execution_count": 24,
   "metadata": {},
   "outputs": [],
   "source": [
    "simulation = hoomd.Simulation(device=cpu, seed=17)"
   ]
  },
  {
   "cell_type": "code",
   "execution_count": 25,
   "metadata": {},
   "outputs": [],
   "source": [
    "simulation.create_state_from_gsd(filename='squareA&B.gsd')\n",
    "\n",
    "fn = os.path.join(os.getcwd(), 'squareA&B_traj.gsd')\n",
    "![ -e \"$fn\" ] && rm \"$fn\"\n",
    "\n",
    "gsd_writer = hoomd.write.GSD(\n",
    "    filename='squareA&B_traj.gsd', trigger=hoomd.trigger.Periodic(100), mode='xb'\n",
    ")\n",
    "simulation.operations.writers.append(gsd_writer)"
   ]
  },
  {
   "cell_type": "code",
   "execution_count": 26,
   "metadata": {},
   "outputs": [],
   "source": [
    "integrator = hoomd.hpmc.integrate.ConvexSpheropolyhedronUnion(default_d=0.1, default_a=0.1)\n",
    "\n",
    "vertices_1 = [(0.25, 0, 0), (0.25, 0.25, 0), (0.25, 0.5, 0.25),\n",
    "              (0, 0.25, 0.25), (0.25, 0.25, 0.5), (0, 0, 0.25)]\n",
    "vertices_2 = [(0.25, 0, 0), (0.25, 0.25, 0), (0.25, 0.5, 0.25),\n",
    "              (0, 0.25, 0.25), (0.25, 0.25, 0.5), (0, 0, 0.25)]\n",
    "\n",
    "positions = [(0, 0, 0), (0, 0, 0.1)]\n",
    "orientations = [(1, 0, 0, 0), (1, 0, 0, 0)]\n",
    "overlap = [1, 1]  \n",
    "\n",
    "integrator.shape[\"A\", \"B\"] = {\n",
    "    \"shapes\": [{\"vertices\": vertices_1}, {\"vertices\": vertices_2}],\n",
    "    \"positions\": positions,\n",
    "    \"orientations\": orientations,\n",
    "    \"overlap\": overlap\n",
    "}\n",
    "\n",
    "simulation.operations.integrator = integrator\n",
    "\n",
    "simulation.run(1e4)\n",
    "\n"
   ]
  },
  {
   "cell_type": "code",
   "execution_count": 27,
   "metadata": {},
   "outputs": [],
   "source": [
    "gsd_writer.flush()"
   ]
  },
  {
   "cell_type": "code",
   "execution_count": 28,
   "metadata": {},
   "outputs": [
    {
     "data": {
      "text/plain": [
       "10000"
      ]
     },
     "execution_count": 28,
     "metadata": {},
     "output_type": "execute_result"
    }
   ],
   "source": [
    "simulation.timestep"
   ]
  },
  {
   "cell_type": "code",
   "execution_count": null,
   "metadata": {},
   "outputs": [],
   "source": []
  }
 ],
 "metadata": {
  "kernelspec": {
   "display_name": "Python 3 (ipykernel)",
   "language": "python",
   "name": "python3"
  },
  "language_info": {
   "codemirror_mode": {
    "name": "ipython",
    "version": 3
   },
   "file_extension": ".py",
   "mimetype": "text/x-python",
   "name": "python",
   "nbconvert_exporter": "python",
   "pygments_lexer": "ipython3",
   "version": "3.11.9"
  }
 },
 "nbformat": 4,
 "nbformat_minor": 4
}
