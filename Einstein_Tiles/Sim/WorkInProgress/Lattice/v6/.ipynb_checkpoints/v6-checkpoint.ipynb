{
 "cells": [
  {
   "cell_type": "code",
   "execution_count": 20,
   "metadata": {},
   "outputs": [],
   "source": [
    "import itertools\n",
    "import math\n",
    "import os\n",
    "import gsd.hoomd\n",
    "import hoomd\n",
    "import numpy \n",
    "import warnings\n",
    "import fresnel\n",
    "import IPython\n",
    "import packaging.version \n",
    "import matplotlib\n",
    "import io \n",
    "import PIL\n",
    "import freud\n",
    "import random\n",
    "import matplotlib.pyplot as plt \n",
    "\n",
    "%matplotlib inline \n",
    "matplotlib.style.use('ggplot')\n",
    "import matplotlib_inline\n",
    "\n",
    "matplotlib_inline.backend_inline.set_matplotlib_formats('svg')"
   ]
  },
  {
   "cell_type": "code",
   "execution_count": 21,
   "metadata": {},
   "outputs": [],
   "source": [
    "device = fresnel.Device()\n",
    "tracer = fresnel.tracer.Path(device=device, w=300, h=300)\n",
    "\n",
    "def render(snapshot):\n",
    "\n",
    "    vertices = [\n",
    "        (-1, -1),\n",
    "        (1, -1),\n",
    "        (1, 1),\n",
    "        (-1, 1)\n",
    "    ]\n",
    "\n",
    "    L = snapshot.configuration.box[0]\n",
    "    scene = fresnel.Scene(device)\n",
    "\n",
    "    geometry = fresnel.geometry.Polygon(\n",
    "        scene, vertices = vertices, N=len(snapshot.particles.position)\n",
    "    )\n",
    "    geometry.material = fresnel.material.Material(\n",
    "        color=fresnel.color.linear([100 / 255, 216 / 255, 230 / 255]), roughness=0.2\n",
    "    )\n",
    "    positions = numpy.array(snapshot.particles.position)[:, :2]\n",
    "    geometry.position[:] = positions\n",
    "\n",
    "    orientations = numpy.array(snapshot.particles.orientation)\n",
    "    angles = 2 * numpy.arctan2(orientations[:, 3], orientations[:, 0])\n",
    "    geometry.angle[:] = angles\n",
    "    \n",
    "    geometry.outline_width = 0.01\n",
    "\n",
    "    fresnel.geometry.Box(scene, [L, L, 0.1, 0, 0, 0], box_radius=0.02)\n",
    "\n",
    "    scene.lights = [\n",
    "        fresnel.light.Light(direction=(0, 0, 1), color=(0.8, 0.8, 0.8), theta=math.pi),\n",
    "        fresnel.light.Light(\n",
    "            direction=(1, 1, 1), color=(1.1, 1.1, 1.1), theta=math.pi / 3\n",
    "        ),\n",
    "    ]\n",
    "    scene.camera = fresnel.camera.Orthographic(\n",
    "        position=(0, 0, 10), look_at=(0, 0, 0), up=(0, 1, 0), height=L * 1.1\n",
    "    )\n",
    "    scene.background_alpha = 1\n",
    "    scene.background_color = (1, 1, 1)\n",
    "    return IPython.display.Image(tracer.sample(scene, samples=500)._repr_png_())"
   ]
  },
  {
   "cell_type": "code",
   "execution_count": 23,
   "metadata": {},
   "outputs": [],
   "source": [
    "m = 5\n",
    "N_particles = m**2\n",
    "spacing = 2\n",
    "K = math.ceil(N_particles ** (1 / 2))\n",
    "L = K * spacing\n",
    "x = numpy.linspace(-L / 2, L / 2, K, endpoint=False)\n",
    "position = [(px, py, 0) for px, py in itertools.product(x, x)][:N_particles]\n",
    "orientation = [(1, 0, 0, 0)] * N_particles\n",
    "\n",
    "frame = gsd.hoomd.Frame()\n",
    "frame.particles.N = N_particles\n",
    "frame.particles.position = position[0:N_particles]\n",
    "frame.particles.orientation = orientation[0:N_particles]\n",
    "frame.particles.typeid = [0] * N_particles\n",
    "frame.configuration.box = [L, L, 0, 0, 0, 0]\n",
    "frame.particles.types = ['A']\n"
   ]
  },
  {
   "cell_type": "code",
   "execution_count": 24,
   "metadata": {},
   "outputs": [],
   "source": [
    "fn = os.path.join(os.getcwd(), 'squareA.gsd')\n",
    "![ -e \"$fn\" ] && rm \"$fn\"\n",
    "\n",
    "with gsd.hoomd.open(name='squareA.gsd', mode='x') as f:\n",
    "    f.append(frame)"
   ]
  },
  {
   "cell_type": "code",
   "execution_count": 25,
   "metadata": {},
   "outputs": [],
   "source": [
    "cpu = hoomd.device.CPU()"
   ]
  },
  {
   "cell_type": "code",
   "execution_count": 26,
   "metadata": {},
   "outputs": [],
   "source": [
    "simulation = hoomd.Simulation(device=cpu, seed=17)"
   ]
  },
  {
   "cell_type": "code",
   "execution_count": 27,
   "metadata": {},
   "outputs": [],
   "source": [
    "simulation.create_state_from_gsd(filename='squareA.gsd')\n",
    "\n",
    "fn = os.path.join(os.getcwd(), 'squareA_traj.gsd')\n",
    "![ -e \"$fn\" ] && rm \"$fn\"\n",
    "\n",
    "gsd_writer = hoomd.write.GSD(\n",
    "    filename='squareA_traj.gsd', trigger=hoomd.trigger.Periodic(100), mode='xb'\n",
    ")\n",
    "simulation.operations.writers.append(gsd_writer)"
   ]
  },
  {
   "cell_type": "code",
   "execution_count": 32,
   "metadata": {},
   "outputs": [
    {
     "name": "stdout",
     "output_type": "stream",
     "text": [
      "vertices of the first shape = _HOOMDList[(-1.0, -1.0, 0.0), (1.0, -1.0, 0.0), (1.0, 1.0, 0.0), (-1.0, 1.0, 0.0)]\n",
      "center of the first shape = _HOOMDTuple(0.0, 0.0, 0.0)\n",
      "orientation of the first shape = _HOOMDTuple(1.0, 0.0, 0.0, 0.0)\n"
     ]
    }
   ],
   "source": [
    "mc = hoomd.hpmc.integrate.ConvexSpheropolyhedronUnion(default_d=0.3, default_a=0.4)\n",
    "cube_verts = [\n",
    "    [-1, -1, 0], [1, -1, 0],\n",
    "    [1, 1, 0], [-1, 1, 0]\n",
    "]\n",
    "\n",
    "# Correctly define the shapes as dictionaries with 'vertices' key\n",
    "mc.shape['A'] = dict(\n",
    "    shapes=[{'vertices': cube_verts}, {'vertices': cube_verts}],\n",
    "    positions=[(0, 0, 0), (0, 0, 1)],\n",
    "    orientations=[(1, 0, 0, 0), (1, 0, 0, 0)],\n",
    "    overlap=[True, True]\n",
    ")\n",
    "\n",
    "# You can now print details of the first shape correctly\n",
    "print('vertices of the first shape =', mc.shape[\"A\"][\"shapes\"][0][\"vertices\"])\n",
    "print('center of the first shape =', mc.shape[\"A\"][\"positions\"][0])\n",
    "print('orientation of the first shape =', mc.shape[\"A\"][\"orientations\"][0])"
   ]
  },
  {
   "cell_type": "code",
   "execution_count": null,
   "metadata": {},
   "outputs": [],
   "source": []
  }
 ],
 "metadata": {
  "kernelspec": {
   "display_name": "hoomd_env1",
   "language": "python",
   "name": "python3"
  },
  "language_info": {
   "codemirror_mode": {
    "name": "ipython",
    "version": 3
   },
   "file_extension": ".py",
   "mimetype": "text/x-python",
   "name": "python",
   "nbconvert_exporter": "python",
   "pygments_lexer": "ipython3",
   "version": "3.9.19"
  }
 },
 "nbformat": 4,
 "nbformat_minor": 2
}
